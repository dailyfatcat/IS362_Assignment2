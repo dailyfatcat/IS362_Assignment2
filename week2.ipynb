{
 "cells": [
  {
   "cell_type": "markdown",
   "metadata": {
    "collapsed": true,
    "pycharm": {
     "name": "#%% md\n"
    }
   },
   "source": [
    "**Week 2 Assignment**\n",
    "====================\n",
    "*Create a small Jupyter (IPython) Notebook about one aspect of data structures that you might find somewhat challenging*\n",
    "---------------------\n",
    "*Such as set comprehensions, or using the zip() function*\n",
    "*Includes both **code** and **documentation** utilizing Markdown.\n",
    "This Jupyter Notebook is hosted on GitHub:* [GithubLink](https://github.com/dailyfatcat/IS362_Assignment2)"
   ]
  },
  {
   "cell_type": "code",
   "execution_count": 3,
   "outputs": [
    {
     "name": "stdout",
     "output_type": "stream",
     "text": [
      "Printing the list\n",
      "farben schlafen reisen kaufen machen\n"
     ]
    }
   ],
   "source": [
    "'''List Data Structure and List Comprehensions\n",
    "List comprehensions - transform a list\n",
    "'''\n",
    "\n",
    "#Basic List Functions\n",
    "#Declare an empty list\n",
    "example = []\n",
    "#Populate a list\n",
    "example = ['farben', 'schlafen', 'reisen', 'kaufen', 'machen']\n",
    "#Print the list\n",
    "print(\"Printing the list\")\n",
    "print(*example)\n",
    "#Remove the last item in a list\n",
    "example.pop()\n",
    "#Add an item to the list, in the second position\n",
    "example.insert(1,'geben')"
   ],
   "metadata": {
    "collapsed": false,
    "pycharm": {
     "name": "#%%\n"
    }
   }
  },
  {
   "cell_type": "code",
   "execution_count": 4,
   "outputs": [
    {
     "name": "stdout",
     "output_type": "stream",
     "text": [
      "List comprehension - words converted to uppercase\n",
      "FARBEN GEBEN SCHLAFEN REISEN KAUFEN\n",
      "List Comprehension- last two letters removed from the list - retrieve the stem of the verb\n",
      "farb geb schlaf reis kauf\n"
     ]
    }
   ],
   "source": [
    "#List Comprehensions\n",
    "#Generate a list of the words from example to uppercase\n",
    "print(\"List comprehension - words converted to uppercase\")\n",
    "newexample = [word.upper() for word in example]\n",
    "print(*newexample)\n",
    "\n",
    "print(\"List Comprehension- last two letters removed from the list - retrieve the stem of the verb\")\n",
    "nextexample = [word[:-2] for word in example]\n",
    "print(*nextexample)"
   ],
   "metadata": {
    "collapsed": false,
    "pycharm": {
     "name": "#%%\n"
    }
   }
  },
  {
   "cell_type": "markdown",
   "source": [
    "Documentation\n",
    "---------\n",
    "*The following websites were used to further my understanding of Lists, and List comprehensions.\n",
    "Last semester this topic seemed confusing, and these websites helped me to better understand the topic.*\n",
    "[Docs.Python.org](https://docs.python.org/3/tutorial/datastructures.html#list-comprehensions)\n",
    "[List Comprehensions Further Research](https://pythonforbeginners.com/basics/list-comprehensions-in-python)"
   ],
   "metadata": {
    "collapsed": false,
    "pycharm": {
     "name": "#%% md\n"
    }
   }
  }
 ],
 "metadata": {
  "kernelspec": {
   "display_name": "Python 3",
   "language": "python",
   "name": "python3"
  },
  "language_info": {
   "codemirror_mode": {
    "name": "ipython",
    "version": 2
   },
   "file_extension": ".py",
   "mimetype": "text/x-python",
   "name": "python",
   "nbconvert_exporter": "python",
   "pygments_lexer": "ipython2",
   "version": "2.7.6"
  }
 },
 "nbformat": 4,
 "nbformat_minor": 0
}
